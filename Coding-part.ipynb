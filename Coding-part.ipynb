{
  "nbformat": 4,
  "nbformat_minor": 0,
  "metadata": {
    "colab": {
      "provenance": []
    },
    "kernelspec": {
      "name": "python3",
      "display_name": "Python 3"
    },
    "language_info": {
      "name": "python"
    }
  },
  "cells": [
    {
      "cell_type": "code",
      "execution_count": 6,
      "metadata": {
        "id": "fQ0mZ1u_vTQs"
      },
      "outputs": [],
      "source": [
        "import matplotlib.pyplot as plt\n",
        "import seaborn as sns\n",
        "import pandas as pd\n",
        "\n",
        "# Correct file path\n",
        "file_path = '/content/Electric_Vehicle_Population_Size_History_By_County_.csv'\n",
        "\n",
        "# Load the data\n",
        "ev_data = pd.read_csv(file_path)\n",
        "\n",
        "# Data Cleaning\n",
        "ev_data['Date'] = pd.to_datetime(ev_data['Date'], errors='coerce')\n",
        "ev_data = ev_data.dropna(subset=['County', 'State'])\n",
        "\n",
        "# Function to convert columns with numbers stored as strings to integers\n",
        "def convert_to_int(column):\n",
        "    return pd.to_numeric(column.str.replace(',', ''), errors='coerce')\n",
        "\n",
        "# Applying conversion to relevant columns\n",
        "ev_data['Battery Electric Vehicles (BEVs)'] = convert_to_int(ev_data['Battery Electric Vehicles (BEVs)'])\n",
        "ev_data['Plug-In Hybrid Electric Vehicles (PHEVs)'] = convert_to_int(ev_data['Plug-In Hybrid Electric Vehicles (PHEVs)'])\n",
        "ev_data['Electric Vehicle (EV) Total'] = convert_to_int(ev_data['Electric Vehicle (EV) Total'])\n",
        "ev_data['Non-Electric Vehicle Total'] = convert_to_int(ev_data['Non-Electric Vehicle Total'])\n",
        "ev_data['Total Vehicles'] = convert_to_int(ev_data['Total Vehicles'])\n",
        "\n",
        "# Setting up the visualization\n",
        "sns.set(style=\"whitegrid\")\n",
        "\n",
        "# Plot 1: Histogram of Percent Electric Vehicles\n",
        "plt.figure(figsize=(10, 6))\n",
        "sns.histplot(ev_data['Percent Electric Vehicles'], bins=50, kde=True)\n",
        "plt.title('Distribution of Percent Electric Vehicles')\n",
        "plt.xlabel('Percent Electric Vehicles')\n",
        "plt.ylabel('Frequency')\n",
        "plt.savefig('percent_electric_vehicles_distribution.png')  # Save as PNG\n",
        "plt.close()  # Close the plot to free up memory\n",
        "\n",
        "# Plot 2: Time Series Plot of EV Total Counts (Monthly Sum)\n",
        "ev_data.set_index('Date')['Electric Vehicle (EV) Total'].resample('M').sum().plot(figsize=(10, 6))\n",
        "plt.title('Time Series of EV Total Counts (Monthly Sum)')\n",
        "plt.xlabel('Date')\n",
        "plt.ylabel('EV Total Counts')\n",
        "plt.savefig('ev_total_counts_time_series.png')  # Save as PNG\n",
        "plt.close()  # Close the plot to free up memory\n",
        "\n",
        "# Plot 3: Scatter Plot of Total Vehicles vs. Percent Electric Vehicles\n",
        "plt.figure(figsize=(10, 6))\n",
        "sns.scatterplot(x='Total Vehicles', y='Percent Electric Vehicles', data=ev_data)\n",
        "plt.title('Total Vehicles vs. Percent Electric Vehicles')\n",
        "plt.xlabel('Total Vehicles')\n",
        "plt.ylabel('Percent Electric Vehicles')\n",
        "plt.savefig('total_vehicles_vs_percent_ev.png')  # Save as PNG\n",
        "plt.close()  # Close the plot to free up memory\n",
        "\n",
        "\n"
      ]
    }
  ]
}